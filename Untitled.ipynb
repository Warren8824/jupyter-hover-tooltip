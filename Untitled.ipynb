{
 "cells": [
  {
   "cell_type": "markdown",
   "id": "aaec2236-151c-40e7-9502-ae807c253e73",
   "metadata": {},
   "source": [
    "[View test function](test_files/test.py#TestClass)"
   ]
  },
  {
   "cell_type": "code",
   "execution_count": 2,
   "id": "c28dc779-0fd9-4d31-ba94-8680b9f76746",
   "metadata": {},
   "outputs": [
    {
     "name": "stderr",
     "output_type": "stream",
     "text": [
      "UsageError: Invalid config statement: 'NotebookApp', should be `Class.trait = value`.\n"
     ]
    }
   ],
   "source": [
    "%config NotebookApp"
   ]
  },
  {
   "cell_type": "code",
   "execution_count": 1,
   "id": "052d5f07-9f24-4ff3-87dd-a88e7a651026",
   "metadata": {},
   "outputs": [
    {
     "ename": "ModuleNotFoundError",
     "evalue": "No module named 'notebook.services'",
     "output_type": "error",
     "traceback": [
      "\u001b[0;31m---------------------------------------------------------------------------\u001b[0m",
      "\u001b[0;31mModuleNotFoundError\u001b[0m                       Traceback (most recent call last)",
      "Cell \u001b[0;32mIn[1], line 1\u001b[0m\n\u001b[0;32m----> 1\u001b[0m \u001b[38;5;28;01mfrom\u001b[39;00m \u001b[38;5;21;01mnotebook\u001b[39;00m\u001b[38;5;21;01m.\u001b[39;00m\u001b[38;5;21;01mservices\u001b[39;00m\u001b[38;5;21;01m.\u001b[39;00m\u001b[38;5;21;01mconfig\u001b[39;00m \u001b[38;5;28;01mimport\u001b[39;00m ConfigManager\n\u001b[1;32m      2\u001b[0m cm \u001b[38;5;241m=\u001b[39m ConfigManager()\n\u001b[1;32m      3\u001b[0m \u001b[38;5;28mprint\u001b[39m(\u001b[38;5;124m\"\u001b[39m\u001b[38;5;124mNotebook extensions config:\u001b[39m\u001b[38;5;124m\"\u001b[39m)\n",
      "\u001b[0;31mModuleNotFoundError\u001b[0m: No module named 'notebook.services'"
     ]
    }
   ],
   "source": [
    "from notebook.services.config import ConfigManager\n",
    "cm = ConfigManager()\n",
    "print(\"Notebook extensions config:\")\n",
    "print(cm.get('notebook'))"
   ]
  },
  {
   "cell_type": "code",
   "execution_count": null,
   "id": "1d17dc98-509d-4b1a-b9f2-25a3909288eb",
   "metadata": {},
   "outputs": [],
   "source": []
  }
 ],
 "metadata": {
  "kernelspec": {
   "display_name": "Python 3 (ipykernel)",
   "language": "python",
   "name": "python3"
  },
  "language_info": {
   "codemirror_mode": {
    "name": "ipython",
    "version": 3
   },
   "file_extension": ".py",
   "mimetype": "text/x-python",
   "name": "python",
   "nbconvert_exporter": "python",
   "pygments_lexer": "ipython3",
   "version": "3.10.12"
  }
 },
 "nbformat": 4,
 "nbformat_minor": 5
}
