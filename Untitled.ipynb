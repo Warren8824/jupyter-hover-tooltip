{
 "cells": [
  {
   "cell_type": "code",
   "execution_count": 1,
   "id": "e3fbde3d-f466-4bee-924f-02029f0b6d48",
   "metadata": {},
   "outputs": [],
   "source": [
    "import datetime as dt"
   ]
  },
  {
   "cell_type": "markdown",
   "id": "8cb33e27-07ae-4155-b561-819e6ca93a97",
   "metadata": {},
   "source": [
    "[Test](test_files/test.py#TestClass)"
   ]
  },
  {
   "cell_type": "code",
   "execution_count": null,
   "id": "65d57e12-bc22-4f85-aca9-e4f77ba0a5c8",
   "metadata": {},
   "outputs": [],
   "source": []
  }
 ],
 "metadata": {
  "kernelspec": {
   "display_name": "Python 3 (ipykernel)",
   "language": "python",
   "name": "python3"
  },
  "language_info": {
   "codemirror_mode": {
    "name": "ipython",
    "version": 3
   },
   "file_extension": ".py",
   "mimetype": "text/x-python",
   "name": "python",
   "nbconvert_exporter": "python",
   "pygments_lexer": "ipython3",
   "version": "3.10.12"
  }
 },
 "nbformat": 4,
 "nbformat_minor": 5
}
